{
 "cells": [
  {
   "cell_type": "code",
   "execution_count": 47,
   "metadata": {},
   "outputs": [
    {
     "data": {
      "text/plain": [
       "{0: 'zero', 1: 'one', 2: 'two', 3: 'three', 4: 'four'}"
      ]
     },
     "execution_count": 47,
     "metadata": {},
     "output_type": "execute_result"
    }
   ],
   "source": [
    "# my_dict = dict()\n",
    "my_dict = {0:'zero', 1:'one', 2:'two'}\n",
    "\n",
    "my_dict.update({3:'three', 4:'four'})  # update\n",
    "my_dict"
   ]
  },
  {
   "cell_type": "code",
   "execution_count": null,
   "metadata": {},
   "outputs": [],
   "source": [
    "my_dict.update({4:'fore'})  # replce"
   ]
  },
  {
   "cell_type": "code",
   "execution_count": null,
   "metadata": {},
   "outputs": [
    {
     "data": {
      "text/plain": [
       "(4, 'four')"
      ]
     },
     "execution_count": 38,
     "metadata": {},
     "output_type": "execute_result"
    }
   ],
   "source": [
    "my_dict.keys()\n",
    "my_dict.values()\n",
    "my_dict.items()\n",
    "my_dict.get(2)      # access \n",
    "my_dict[2]          # access\n",
    "\n",
    "my_dict.pop(0)      # delete\n",
    "my_dict.popitem()   # delete"
   ]
  },
  {
   "cell_type": "code",
   "execution_count": 42,
   "metadata": {},
   "outputs": [],
   "source": [
    "keys = [2, 3, 4, 5]\n",
    "values = ['two', 'three', 'four', 'five']\n",
    "my_dict = my_dict.fromkeys(keys, values)"
   ]
  },
  {
   "cell_type": "code",
   "execution_count": 45,
   "metadata": {},
   "outputs": [],
   "source": [
    "values.append('seven')"
   ]
  },
  {
   "cell_type": "code",
   "execution_count": 46,
   "metadata": {},
   "outputs": [
    {
     "data": {
      "text/plain": [
       "{2: ['two', 'three', 'four', 'five', 'six', 'seven'],\n",
       " 3: ['two', 'three', 'four', 'five', 'six', 'seven'],\n",
       " 4: ['two', 'three', 'four', 'five', 'six', 'seven'],\n",
       " 5: ['two', 'three', 'four', 'five', 'six', 'seven']}"
      ]
     },
     "execution_count": 46,
     "metadata": {},
     "output_type": "execute_result"
    }
   ],
   "source": [
    "my_dict"
   ]
  },
  {
   "cell_type": "code",
   "execution_count": 65,
   "metadata": {},
   "outputs": [
    {
     "data": {
      "text/plain": [
       "{'Write': 1,\n",
       " 'a': 3,\n",
       " 'Python': 1,\n",
       " 'function': 1,\n",
       " 'that': 1,\n",
       " 'counts': 1,\n",
       " 'the': 1,\n",
       " 'frequency': 1,\n",
       " 'of': 1,\n",
       " 'each': 1,\n",
       " 'character': 1,\n",
       " 'in': 1,\n",
       " 'string': 1,\n",
       " 'using': 1,\n",
       " 'dictionary': 1}"
      ]
     },
     "execution_count": 65,
     "metadata": {},
     "output_type": "execute_result"
    }
   ],
   "source": [
    "# Write a Python function that counts the frequency of each character in a string using a dictionary.\n",
    "\n",
    "sentence = \"Write a Python function that counts the frequency of each character in a string using a dictionary\"\n",
    "\n",
    "word_frequency = {}\n",
    "for word in sentence.split():\n",
    "    \n",
    "    if word in word_frequency:\n",
    "    \n",
    "        word_frequency[word]+=1\n",
    "    else:\n",
    "        word_frequency[word] = 1\n",
    "\n",
    "word_frequency"
   ]
  },
  {
   "cell_type": "code",
   "execution_count": 69,
   "metadata": {},
   "outputs": [
    {
     "data": {
      "text/plain": [
       "{0: 'zero', 1: 'ONE', 2: 'two'}"
      ]
     },
     "execution_count": 69,
     "metadata": {},
     "output_type": "execute_result"
    }
   ],
   "source": [
    "# How do you merge two dictionaries in Python?\n",
    "\n",
    "my_dict1 = {0:'zero', 1:'one'}\n",
    "my_dict2 = {1:'ONE', 2: 'two'}\n",
    "\n",
    "my_dict1.update(my_dict2)\n",
    "my_dict1"
   ]
  },
  {
   "cell_type": "code",
   "execution_count": 71,
   "metadata": {},
   "outputs": [
    {
     "name": "stdout",
     "output_type": "stream",
     "text": [
      "{1: 'a', 2: 'b', 3: 'd'}\n"
     ]
    }
   ],
   "source": [
    "# How would you invert a dictionary (swap keys and values)? What if values are not unique?\n",
    "\n",
    "original = {'a': 1, 'b': 2, 'c': 3, 'd':3}\n",
    "inverted = {v: k for k, v in original.items()}\n",
    "\n",
    "print(inverted)  # Output: {1: 'a', 2: 'b', 3: 'c'}"
   ]
  },
  {
   "cell_type": "code",
   "execution_count": 72,
   "metadata": {},
   "outputs": [
    {
     "name": "stdout",
     "output_type": "stream",
     "text": [
      "{1: ['a', 'c'], 2: ['b']}\n"
     ]
    }
   ],
   "source": [
    "original = {'a': 1, 'b': 2, 'c': 1}\n",
    "\n",
    "inverted = {}\n",
    "for key, value in original.items():\n",
    "    inverted.setdefault(value, []).append(key)\n",
    "\n",
    "print(inverted)  # Output: {1: ['a', 'c'], 2: ['b']}\n"
   ]
  },
  {
   "cell_type": "code",
   "execution_count": null,
   "metadata": {},
   "outputs": [],
   "source": []
  }
 ],
 "metadata": {
  "kernelspec": {
   "display_name": ".venv",
   "language": "python",
   "name": "python3"
  },
  "language_info": {
   "codemirror_mode": {
    "name": "ipython",
    "version": 3
   },
   "file_extension": ".py",
   "mimetype": "text/x-python",
   "name": "python",
   "nbconvert_exporter": "python",
   "pygments_lexer": "ipython3",
   "version": "3.10.12"
  }
 },
 "nbformat": 4,
 "nbformat_minor": 2
}
