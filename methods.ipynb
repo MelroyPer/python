{
 "cells": [
  {
   "cell_type": "code",
   "execution_count": 8,
   "metadata": {},
   "outputs": [
    {
     "data": {
      "text/plain": [
       "('hi my is name ', 'is', ' melroy')"
      ]
     },
     "execution_count": 8,
     "metadata": {},
     "output_type": "execute_result"
    }
   ],
   "source": [
    "string = 'hi my is name is melroy'\n",
    "string.rpartition('is')"
   ]
  },
  {
   "cell_type": "code",
   "execution_count": 9,
   "metadata": {},
   "outputs": [
    {
     "data": {
      "text/plain": [
       "17"
      ]
     },
     "execution_count": 9,
     "metadata": {},
     "output_type": "execute_result"
    }
   ],
   "source": [
    "string.partition('is')\n",
    "string.strip()\n",
    "string.lower()\n",
    "string.upper()\n",
    "string.replace('hi', 'ho')\n",
    "string.count('is')\n",
    "string.startswith('hi')\n",
    "string.endswith('melroy')\n",
    "string.split()\n",
    "string.index('is')\n",
    "string.isalpha()\n",
    "string.find('melroy')\n"
   ]
  },
  {
   "cell_type": "code",
   "execution_count": 10,
   "metadata": {},
   "outputs": [
    {
     "data": {
      "text/plain": [
       "'my name is pereira denston melroy'"
      ]
     },
     "execution_count": 10,
     "metadata": {},
     "output_type": "execute_result"
    }
   ],
   "source": [
    "res = 'my name is {2} {1} {0}'\n",
    "\n",
    "res.format('melroy', 'denston', 'pereira')"
   ]
  },
  {
   "cell_type": "code",
   "execution_count": 11,
   "metadata": {},
   "outputs": [
    {
     "data": {
      "text/plain": [
       "'python'"
      ]
     },
     "execution_count": 11,
     "metadata": {},
     "output_type": "execute_result"
    }
   ],
   "source": [
    "# \"seperator\".join('iterable')\n",
    "my_list = ['p', 'y', 't', 'h', 'o', 'n']\n",
    "\"\".join(my_list)"
   ]
  },
  {
   "cell_type": "code",
   "execution_count": 12,
   "metadata": {},
   "outputs": [
    {
     "data": {
      "text/plain": [
       "False"
      ]
     },
     "execution_count": 12,
     "metadata": {},
     "output_type": "execute_result"
    }
   ],
   "source": [
    "string = '1243'\n",
    "\n",
    "string.isalpha()\n",
    "string.isalnum()\n",
    "string.isnumeric()\n",
    "string.isdecimal()\n",
    "string.isupper()\n",
    "string.islower()\n",
    "    "
   ]
  },
  {
   "cell_type": "code",
   "execution_count": null,
   "metadata": {},
   "outputs": [],
   "source": [
    "# list\n",
    "\n",
    "mylist = ['one',1, 2, 3]\n",
    "\n",
    "mylist.append(4)\n",
    "mylist.pop()\n",
    "mylist.remove(\"one\")\n",
    "mylist.insert(5, 4) #index #value\n",
    "mylist.reverse()\n",
    "mylist.sort()\n",
    "mylist.count(\"one\")\n",
    "\n"
   ]
  },
  {
   "cell_type": "code",
   "execution_count": null,
   "metadata": {},
   "outputs": [
    {
     "data": {
      "text/plain": [
       "2"
      ]
     },
     "execution_count": 1,
     "metadata": {},
     "output_type": "execute_result"
    }
   ],
   "source": [
    "# tuples\n",
    "mytuple = (2, 'three', 'three', 5, [3, 5])\n",
    "mytuple.count('three')\n",
    "mytuple.index('three')"
   ]
  },
  {
   "cell_type": "code",
   "execution_count": 48,
   "metadata": {},
   "outputs": [],
   "source": [
    "#sets\n",
    "\n",
    "my_set = {1, 1, 3, 5, 'five'}\n",
    "my_set.add(878)  # only one item can be added\n",
    "my_set.update([44,6,76,88,655])\n",
    "my_set.remove('five')\n",
    "\n"
   ]
  },
  {
   "cell_type": "code",
   "execution_count": 49,
   "metadata": {},
   "outputs": [],
   "source": [
    "# set operation"
   ]
  },
  {
   "cell_type": "code",
   "execution_count": 69,
   "metadata": {},
   "outputs": [
    {
     "data": {
      "text/plain": [
       "(8, 'eight')"
      ]
     },
     "execution_count": 69,
     "metadata": {},
     "output_type": "execute_result"
    }
   ],
   "source": [
    "# dict\n",
    "\n",
    "mydict = {0:'zero', 1:'one', 2: 'two'}\n",
    "\n",
    "mydict.fromkeys([8,6])\n",
    "mydict.update({8: 'eight', 9: 'nine'})\n",
    "mydict.keys()\n",
    "mydict.values()\n",
    "mydict.get(9)\n",
    "mydict.items()\n",
    "mydict.pop(9)\n",
    "mydict.popitem()"
   ]
  },
  {
   "cell_type": "code",
   "execution_count": null,
   "metadata": {},
   "outputs": [],
   "source": [
    "# function \n",
    "    # 1. args, kwargs\n",
    "    # 2. lambda\n",
    "\n",
    "# map , filter, reduce\n",
    "\n",
    "# abstraction , encapsulation\n",
    "# generator iterator\n",
    "# method overriding\n",
    "\n",
    "\n"
   ]
  },
  {
   "cell_type": "code",
   "execution_count": 18,
   "metadata": {},
   "outputs": [
    {
     "data": {
      "text/plain": [
       "18"
      ]
     },
     "execution_count": 18,
     "metadata": {},
     "output_type": "execute_result"
    }
   ],
   "source": [
    "#*args → accepts any number of positional arguments (as a tuple)\n",
    "\n",
    "#**kwargs → accepts any number of keyword arguments (as a dict)\n",
    "# def add(a, b):\n",
    "#     sum = a+b\n",
    "#     return sum\n",
    "\n",
    "def add(*args):\n",
    "    \n",
    "    return sum(args)\n",
    "\n",
    "add(6, 6, 6)"
   ]
  },
  {
   "cell_type": "code",
   "execution_count": 20,
   "metadata": {},
   "outputs": [
    {
     "data": {
      "text/plain": [
       "4"
      ]
     },
     "execution_count": 20,
     "metadata": {},
     "output_type": "execute_result"
    }
   ],
   "source": [
    "a = lambda x,y : x+y\n",
    "a(2,2)"
   ]
  },
  {
   "cell_type": "code",
   "execution_count": 21,
   "metadata": {},
   "outputs": [
    {
     "name": "stdout",
     "output_type": "stream",
     "text": [
      "[(2, 1), (4, 2), (1, 3)]\n"
     ]
    }
   ],
   "source": [
    "pairs = [(1, 3), (2, 1), (4, 2)]\n",
    "sorted_pairs = sorted(pairs, key=lambda x: x[1])\n",
    "print(sorted_pairs)  # Output: [(2, 1), (4, 2), (1, 3)]\n"
   ]
  },
  {
   "cell_type": "code",
   "execution_count": 24,
   "metadata": {},
   "outputs": [
    {
     "data": {
      "text/plain": [
       "[2, 4]"
      ]
     },
     "execution_count": 24,
     "metadata": {},
     "output_type": "execute_result"
    }
   ],
   "source": [
    "mylist = [1, 2, 3, 4]\n",
    "\n",
    "def even (num):\n",
    "    if num%2 ==0:\n",
    "        return num\n",
    "\n",
    "list(map(lambda x:x**2, mylist))\n",
    "list(filter(even, mylist))"
   ]
  },
  {
   "cell_type": "code",
   "execution_count": null,
   "metadata": {},
   "outputs": [
    {
     "data": {
      "text/plain": [
       "['h', '*', 'l', 'l', '*', ' ', 'w', '*', 'r', 'l', 'd']"
      ]
     },
     "execution_count": 36,
     "metadata": {},
     "output_type": "execute_result"
    }
   ],
   "source": [
    "# list & dict  comprehenstion \n",
    "\n",
    "[i for i in range(10) if i%2 ==0]\n",
    "[i**2 for i in range(10) if i%2 ==0]\n",
    "[(i,i**2) for i in range(10) if i%2 ==0]\n",
    "\n",
    "text = \"hello world\"\n",
    "['*' if c in 'aeiou' else c for c in text]  # using if else"
   ]
  },
  {
   "cell_type": "code",
   "execution_count": 37,
   "metadata": {},
   "outputs": [
    {
     "data": {
      "text/plain": [
       "{0: 0, 1: 1, 2: 2, 3: 3, 4: 4, 5: 5, 6: 6, 7: 7, 8: 8, 9: 9}"
      ]
     },
     "execution_count": 37,
     "metadata": {},
     "output_type": "execute_result"
    }
   ],
   "source": [
    "{k:v for k, v in enumerate(range(10))}"
   ]
  },
  {
   "cell_type": "code",
   "execution_count": 42,
   "metadata": {},
   "outputs": [
    {
     "data": {
      "text/plain": [
       "{'name': 'Melroy', 'age': 27, 'city': 'Udupi'}"
      ]
     },
     "execution_count": 42,
     "metadata": {},
     "output_type": "execute_result"
    }
   ],
   "source": [
    "# 3. Filter Even Values\n",
    "nums = {x: x**2 for x in range(10)}\n",
    "{k: v for k, v in nums.items() if v % 2 == 0}\n",
    "\n",
    "# swap key and values\n",
    "original = {'a': 1, 'b': 2, 'c': 3}\n",
    "{v: k for k, v in original.items()}\n",
    "\n",
    "# 4. Character Count in a Word\n",
    "word = \"data\"\n",
    "{char: word.count(char) for char in word}\n",
    "\n",
    "# 5. Create Dictionary from Two Lists\n",
    "keys = ['name', 'age', 'city']\n",
    "values = ['Melroy', 27, 'Udupi']\n",
    "{k: v for k, v in zip(keys, values)}"
   ]
  },
  {
   "cell_type": "code",
   "execution_count": null,
   "metadata": {},
   "outputs": [],
   "source": []
  }
 ],
 "metadata": {
  "kernelspec": {
   "display_name": ".venv",
   "language": "python",
   "name": "python3"
  },
  "language_info": {
   "codemirror_mode": {
    "name": "ipython",
    "version": 3
   },
   "file_extension": ".py",
   "mimetype": "text/x-python",
   "name": "python",
   "nbconvert_exporter": "python",
   "pygments_lexer": "ipython3",
   "version": "3.10.12"
  }
 },
 "nbformat": 4,
 "nbformat_minor": 2
}
